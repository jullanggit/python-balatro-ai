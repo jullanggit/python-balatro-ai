{
 "cells": [
  {
   "cell_type": "code",
   "execution_count": 1,
   "id": "b147bb68-8e51-4a88-8a75-d8589c3fdbcf",
   "metadata": {},
   "outputs": [
    {
     "data": {
      "text/html": [
       "\n",
       "<style>\n",
       ".output_wrapper, .output {\n",
       "    height: auto !important;\n",
       "    max-height: none !important;\n",
       "}\n",
       "</style>\n"
      ],
      "text/plain": [
       "<IPython.core.display.HTML object>"
      ]
     },
     "execution_count": 1,
     "metadata": {},
     "output_type": "execute_result"
    }
   ],
   "source": [
    "from IPython.core.display import HTML\n",
    "\n",
    "HTML('''\n",
    "<style>\n",
    ".output_wrapper, .output {\n",
    "    height: auto !important;\n",
    "    max-height: none !important;\n",
    "}\n",
    "</style>\n",
    "''')"
   ]
  },
  {
   "cell_type": "code",
   "execution_count": null,
   "id": "462e0261-e8c2-40df-b57e-b2595bd337bf",
   "metadata": {},
   "outputs": [],
   "source": [
    "    import sys\n",
    "    import os\n",
    "    ROOT = os.path.abspath(os.path.join(os.getcwd(), \"..\"))\n",
    "    sys.path.append(ROOT)    \n",
    "    from env import BalatroEnv, PARAM1_LENGTH, PARAM2_LENGTH, ActionType\n",
    "    import json\n",
    "    import torch\n",
    "    from tensordict import TensorDict\n",
    "    from IPython.display import display\n",
    "\n",
    "    file = \"../runs/replay_1750891294674274299.jsonl\"\n",
    "\n",
    "    # extract seed from filename\n",
    "    basename = os.path.basename(file)\n",
    "    parts = basename.replace('.jsonl','').split('_')\n",
    "    # expected format: replay_{seed/timestamp}.jsonl\n",
    "    seed = int(parts[1])\n",
    "\n",
    "    env = BalatroEnv(worker_id=0, seed=seed, generate_replay=False)\n",
    "\n",
    "    td = env.reset()\n",
    "    print(\"Starting replay, initial obs:\", td[\"observation\"])\n",
    "\n",
    "    with open(file) as f:\n",
    "        for line in f:\n",
    "            record = json.loads(line)\n",
    "            # build tensordict for action\n",
    "            action = {\n",
    "                \"action_type\": torch.tensor(record[\"action_type\"]),\n",
    "                \"param1\": torch.tensor(record[\"param1\"]),\n",
    "                \"param2\": torch.tensor(record[\"param2\"]),\n",
    "            }\n",
    "            td = env.step(TensorDict(action, batch_size=[]))[\"next\"]\n",
    "            # improve logging\n",
    "            record[\"action_type\"] = ActionType(record[\"action_type\"])\n",
    "            print(\"Step:\", record, \"Reward:\", td[\"reward\"].item(), \"Total reward:\", env.total_reward, \"Done:\", td[\"done\"].item())\n",
    "            os.chdir(\"..\")\n",
    "            display(env.run)\n",
    "            os.chdir(\"ai\")\n",
    "            if td[\"done\"]:\n",
    "                break"
   ]
  },
  {
   "cell_type": "code",
   "execution_count": null,
   "id": "27ea8fdb-725a-45ff-814b-a7071c659ffc",
   "metadata": {},
   "outputs": [],
   "source": []
  },
  {
   "cell_type": "code",
   "execution_count": null,
   "id": "e8a1a0cf-5daa-4f91-8a08-b31b53e0c79a",
   "metadata": {},
   "outputs": [],
   "source": []
  }
 ],
 "metadata": {
  "kernelspec": {
   "display_name": "Python 3 (ipykernel)",
   "language": "python",
   "name": "python3"
  },
  "language_info": {
   "codemirror_mode": {
    "name": "ipython",
    "version": 3
   },
   "file_extension": ".py",
   "mimetype": "text/x-python",
   "name": "python",
   "nbconvert_exporter": "python",
   "pygments_lexer": "ipython3",
   "version": "3.13.5"
  }
 },
 "nbformat": 4,
 "nbformat_minor": 5
}
